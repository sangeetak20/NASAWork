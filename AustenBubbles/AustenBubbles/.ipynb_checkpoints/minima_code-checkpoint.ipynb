version https://git-lfs.github.com/spec/v1
oid sha256:040217ac8d1561b9fef6d55cf7589dd0eb9f9ea8ffbebcd6a7dc1999c260d6f6
size 25611
