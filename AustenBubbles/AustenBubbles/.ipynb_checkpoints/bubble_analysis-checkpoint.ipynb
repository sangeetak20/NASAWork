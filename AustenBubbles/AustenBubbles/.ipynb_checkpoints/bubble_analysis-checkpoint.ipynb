version https://git-lfs.github.com/spec/v1
oid sha256:b3ab25b2e2c911cc8f02a78d0eff41e209fad836fa2107453f9e204d1361ce8d
size 1222484
