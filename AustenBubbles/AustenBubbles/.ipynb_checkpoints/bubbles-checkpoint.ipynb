version https://git-lfs.github.com/spec/v1
oid sha256:38b8cf2c8097ce3893eea767153c264b0f48532c9bcf18f6bcf6672864554cfc
size 2933965
