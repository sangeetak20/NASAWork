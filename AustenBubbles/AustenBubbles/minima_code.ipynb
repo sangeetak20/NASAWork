version https://git-lfs.github.com/spec/v1
oid sha256:b7e76631fe7c3a24e7ce712fcfce5b81b0e014867a3ddd589b3b9e0127d20e5d
size 25623
