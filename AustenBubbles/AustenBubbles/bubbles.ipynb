version https://git-lfs.github.com/spec/v1
oid sha256:8f8d41346bcca214bb9d3352757f0a4b0b605b82c9dae723e6d03bb92b2fed24
size 2933939
