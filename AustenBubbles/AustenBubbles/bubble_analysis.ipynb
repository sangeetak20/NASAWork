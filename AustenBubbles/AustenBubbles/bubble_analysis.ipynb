version https://git-lfs.github.com/spec/v1
oid sha256:7b1175f67209a1fd2cd3cceddfd1ce60893d04b3a6bb39b0e88c4285eb2c9e87
size 1222483
