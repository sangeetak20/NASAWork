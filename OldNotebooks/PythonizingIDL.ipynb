version https://git-lfs.github.com/spec/v1
oid sha256:374ce14a53b760a00e7ce2cce19d06b0c5ee127cf233a7b455cc11460d7c2ba4
size 186919
