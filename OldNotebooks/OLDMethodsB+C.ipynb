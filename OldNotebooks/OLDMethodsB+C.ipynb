version https://git-lfs.github.com/spec/v1
oid sha256:7dfa7ecf2be2c395c5b586b5884ddf8cca2571cee303d74d98996df33e976bec
size 108618923
