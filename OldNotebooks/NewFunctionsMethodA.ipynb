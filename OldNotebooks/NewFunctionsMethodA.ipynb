version https://git-lfs.github.com/spec/v1
oid sha256:aedb619aeb2083767be566bc4a1f8d8261e3ca48aaaf3c1a43d7384851226224
size 20888916
