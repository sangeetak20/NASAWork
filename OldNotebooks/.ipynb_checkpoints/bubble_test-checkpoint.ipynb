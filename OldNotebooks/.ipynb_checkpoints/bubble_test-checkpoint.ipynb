version https://git-lfs.github.com/spec/v1
oid sha256:905fa16d843c604f4d097014104455bfd4b39669bc349fb1f1e8fb89ca2c0ee7
size 72480
