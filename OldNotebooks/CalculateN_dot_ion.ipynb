version https://git-lfs.github.com/spec/v1
oid sha256:aa86d552e79124ebc84bcc248bab61b18a06a899c0f8dfe715b09468dba71166
size 12535
