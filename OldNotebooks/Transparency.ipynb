version https://git-lfs.github.com/spec/v1
oid sha256:aa62f013ace0382b350638143a91ce05413df35f3f44a7dcbe1afabc302022d2
size 1024767
