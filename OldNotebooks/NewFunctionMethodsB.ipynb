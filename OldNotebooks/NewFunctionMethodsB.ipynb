version https://git-lfs.github.com/spec/v1
oid sha256:1f95b5c38b392adbb27f3864b5647b11355c7522455fc0802c3f25ea60de0940
size 20036248
